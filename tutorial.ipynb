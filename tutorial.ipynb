{
 "cells": [
  {
   "cell_type": "markdown",
   "metadata": {},
   "source": [
    "### import general python modules"
   ]
  },
  {
   "cell_type": "code",
   "execution_count": null,
   "metadata": {},
   "outputs": [],
   "source": [
    "% matplotlib inline\n",
    "from __future__ import print_function\n",
    "import os\n",
    "import numpy as np\n",
    "\n",
    "import matplotlib\n",
    "import matplotlib.pyplot as plt"
   ]
  },
  {
   "cell_type": "markdown",
   "metadata": {},
   "source": [
    "### import of tomography functions\n",
    "These functions are part of the tomography package and are needed to compute the results."
   ]
  },
  {
   "cell_type": "code",
   "execution_count": null,
   "metadata": {},
   "outputs": [],
   "source": [
    "from tomography import \\\n",
    "    read_data, \\\n",
    "    topo_phase_removal, \\\n",
    "    calculate_covariance_matrix, \\\n",
    "    capon_beam_forming_inversion\n",
    "\n",
    "from tomography.ancillary import listfiles, normalize, geocode\n",
    "\n",
    "from tomography.plotting import DataViewer, Tomographyplot, GeoViewer"
   ]
  },
  {
   "cell_type": "markdown",
   "metadata": {},
   "source": [
    "### define input parameters\n",
    "This is the only box which needs to be changed, all others runs automatically.  \n",
    "* `inpath` a directory containing all the files provided with this tutorial.  \n",
    "* `outpath` will be used by the notebook to write intermediate and final results to disk.\n",
    "\n",
    "Furthermore, two processing parameters can be adjusted:\n",
    "* `multi_look` defines the size of the smoothing kernel, which is applied to the covariance matrix\n",
    "* `height` defines the maximum inversion height (in meters) to be computed during capon beam forming inversion"
   ]
  },
  {
   "cell_type": "code",
   "execution_count": null,
   "metadata": {},
   "outputs": [],
   "source": [
    "inpath = 'E:/Dokumente/Skripte/python/PycharmProjects/tomography/data'\n",
    "outpath = 'E:/Dokumente/Skripte/python/PycharmProjects/tomography/out'\n",
    "\n",
    "# define the boxcar smoothing dimension\n",
    "multi_look = 10\n",
    "\n",
    "# define the max height for the inversion\n",
    "height = 70"
   ]
  },
  {
   "cell_type": "markdown",
   "metadata": {},
   "source": [
    "### create the output directory and list the files to be imported\n",
    "The function `listfiles` which is used here scans the defined input directory `inpath` for the files provided with this tutorial.  \n",
    "All files matching the defined [regular expression](https://docs.python.org/3/library/re.html) pattern are listed.\n",
    "\n",
    "You can print the lists by e.g. adding the following line: \n",
    "```python\n",
    "print('\\n'.join(slc_list))\n",
    "```"
   ]
  },
  {
   "cell_type": "code",
   "execution_count": null,
   "metadata": {},
   "outputs": [],
   "source": [
    "if not os.path.exists(outpath):\n",
    "    os.makedirs(outpath)\n",
    "\n",
    "slc_list = listfiles(inpath, 'SLC_[0-9]_20151013_L_hv$')\n",
    "phase_list = listfiles(inpath, 'Pha_[0-9]_20151013_L_hv$')\n",
    "kz_list = listfiles(inpath, 'Kz_[0-9]_20151013_L_hv$')"
   ]
  },
  {
   "cell_type": "markdown",
   "metadata": {},
   "source": [
    "### read the images into memory\n",
    "\n",
    "In the following step the image files are stacked into [numpy ndarrays](https://docs.scipy.org/doc/numpy/reference/generated/numpy.ndarray.html) and then written to disk using [pickle](https://docs.python.org/3.6/library/pickle.html) serialization.\n",
    "\n",
    "For each stack a filename to write the result to has to be defined.  \n",
    "In case this file already exists, the stacking is not performed and the array is directly read from disk.\n",
    "\n",
    "If you want to overwrite the result, add `overwrite=True` to the call of `read_data`."
   ]
  },
  {
   "cell_type": "code",
   "execution_count": null,
   "metadata": {},
   "outputs": [],
   "source": [
    "# read SLC data\n",
    "outname = os.path.join(outpath, 'SLC_stack')\n",
    "slc_stack = read_data(slc_list, outname, overwrite=False)\n",
    "\n",
    "# read files containing flat earth and topographical phase\n",
    "outname = os.path.join(outpath, 'phase_stack')\n",
    "phase_stack = read_data(phase_list, outname)\n",
    "\n",
    "# read wavenumber files\n",
    "outname = os.path.join(outpath, 'kz_stack')\n",
    "kz_stack = read_data(kz_list, outname)"
   ]
  },
  {
   "cell_type": "markdown",
   "metadata": {},
   "source": [
    "### visualization of input data\n",
    "Now that we have loaded all data we can have a first look at the input data by running the next box.\n",
    "\n",
    "The SLC is displayed as amplitude in logarithmic scaling linearly stretched between the 2nd and 98th percentile.  \n",
    "Use the slider to scroll trough the individual images."
   ]
  },
  {
   "cell_type": "code",
   "execution_count": null,
   "metadata": {},
   "outputs": [],
   "source": [
    "%matplotlib notebook\n",
    "matplotlib.rcParams['figure.figsize'] = (12, 5)\n",
    "\n",
    "view = DataViewer(slc_list, phase_list, kz_list, slc_stack, phase_stack, kz_stack)"
   ]
  },
  {
   "cell_type": "markdown",
   "metadata": {},
   "source": [
    "### removal of topographic phase\n",
    "\n",
    "In the next step we want to normalize the SLC phase by subtracting the topographic phase images"
   ]
  },
  {
   "cell_type": "code",
   "execution_count": null,
   "metadata": {},
   "outputs": [],
   "source": [
    "outname = os.path.join(outpath, 'normalized_stack')\n",
    "normalized_stack = topo_phase_removal(slc_stack, phase_stack, outname)"
   ]
  },
  {
   "cell_type": "markdown",
   "metadata": {},
   "source": [
    "### computation of the covariance matrix"
   ]
  },
  {
   "cell_type": "code",
   "execution_count": null,
   "metadata": {},
   "outputs": [],
   "source": [
    "outname = os.path.join(outpath, 'cov_matrix_ml{}'.format(multi_look))\n",
    "covariance_matrix = calculate_covariance_matrix(normalized_stack, outname, multi_look)"
   ]
  },
  {
   "cell_type": "markdown",
   "metadata": {},
   "source": [
    "### capon beam forming inversion\n",
    "\n"
   ]
  },
  {
   "cell_type": "code",
   "execution_count": null,
   "metadata": {},
   "outputs": [],
   "source": [
    "# capon beam forming inversion\n",
    "outname = os.path.join(outpath, 'capon_bf_ml{}_h{}'.format(multi_look, height))\n",
    "capon_bf = capon_beam_forming_inversion(covariance_matrix, kz_stack, outname, height)\n",
    "\n"
   ]
  },
  {
   "cell_type": "markdown",
   "metadata": {},
   "source": [
    "### normalization of tomography result"
   ]
  },
  {
   "cell_type": "code",
   "execution_count": null,
   "metadata": {},
   "outputs": [],
   "source": [
    "# compute absolute values of the inversion result\n",
    "capon_bf_abs = np.absolute(capon_bf)\n",
    "\n",
    "# normalize the absolute beam forming inversion result per-pixel\n",
    "caponnorm = np.apply_along_axis(normalize, 2, capon_bf)"
   ]
  },
  {
   "cell_type": "markdown",
   "metadata": {},
   "source": [
    "### plotting of the tomography result"
   ]
  },
  {
   "cell_type": "code",
   "execution_count": null,
   "metadata": {},
   "outputs": [],
   "source": [
    "%matplotlib notebook\n",
    "matplotlib.rcParams['figure.figsize'] = (12, 8)\n",
    "Tomographyplot(capon_bf_abs, caponnorm)"
   ]
  },
  {
   "cell_type": "markdown",
   "metadata": {},
   "source": [
    "### geocoding\n",
    "\n",
    "In this section we are going to warp the results from radar coordinates to geo coordinates using two geocoded lookup tables (LUTs). \n",
    "The geocoded LUTs contain radar coodinates as pixel values such that for each geocoded pixel the value of the range and azimuth LUT can be used to get the corresponding pixel from the image in radar coordinates. This is exemplified in the following code snippet:\n",
    "```python\n",
    "rg_index = lut_rg[0, 0]\n",
    "az_index = lut_az[0, 0]\n",
    "img_geo[0, 0] = img_radar[az_index, rg_index]\n",
    "```"
   ]
  },
  {
   "cell_type": "code",
   "execution_count": null,
   "metadata": {},
   "outputs": [],
   "source": [
    "# first we define the names of the LUTs, which are provided with this tutorial:\n",
    "lut_range = os.path.join(inpath, 'sr2geo_rg_15tmpsar0409_L_t02.rat')\n",
    "lut_azimuth = os.path.join(inpath, 'sr2geo_az_15tmpsar0409_L_t02.rat')\n",
    "\n",
    "# then we define a name for the output dataset.\n",
    "outname = os.path.join(outpath, 'capon_bf_ml{}_h{}_geo'.format(multi_look, height))\n",
    "\n",
    "# The data in this tutorial is only a subset of a larger dataset which is linked to the LUTs. \n",
    "# Thus, the function geocode needs to internally convert the pixel coordinates to those of the original data set.\n",
    "# Here we define the radar pixel coordinates of our subset within the original dataset:\n",
    "rg_min = 1610\n",
    "rg_max = 2547\n",
    "az_min = 17324\n",
    "az_max = 18252"
   ]
  },
  {
   "cell_type": "code",
   "execution_count": null,
   "metadata": {},
   "outputs": [],
   "source": [
    "# now we can perform the actual geocoding:\n",
    "geocode(capon_bf_abs, lut_range, lut_azimuth, outname, rg_min, rg_max, az_min, az_max)\n",
    "\n",
    "# Providing a different input dataset of the tutorial, e.g. the SLC data, to the function would work just as well."
   ]
  },
  {
   "cell_type": "markdown",
   "metadata": {},
   "source": [
    "### plotting of the geocoded tomography result\n",
    "\n",
    "We can use the GeoViewer class to display the file written by geocode. On moving the slider, the selected band is read directly from the file and then displayed. The coordinate reference system is now WGS 84, UTM 32N with coordinate units being meters."
   ]
  },
  {
   "cell_type": "code",
   "execution_count": null,
   "metadata": {},
   "outputs": [],
   "source": [
    "%matplotlib notebook\n",
    "matplotlib.rcParams['figure.figsize'] = (10, 10)\n",
    "view = GeoViewer(outname)"
   ]
  }
 ],
 "metadata": {
  "kernelspec": {
   "display_name": "Python 3",
   "language": "python",
   "name": "python3"
  },
  "language_info": {
   "codemirror_mode": {
    "name": "ipython",
    "version": 3
   },
   "file_extension": ".py",
   "mimetype": "text/x-python",
   "name": "python",
   "nbconvert_exporter": "python",
   "pygments_lexer": "ipython3",
   "version": "3.6.5"
  }
 },
 "nbformat": 4,
 "nbformat_minor": 2
}
